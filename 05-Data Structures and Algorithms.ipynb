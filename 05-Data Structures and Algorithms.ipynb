{
 "cells": [
  {
   "cell_type": "markdown",
   "id": "b3018471",
   "metadata": {},
   "source": [
    "### DSC Prep 5: Hands-on Project for Data Structures and Algorithms<br>\n",
    "Get your best monopoly man fake mustache on, because in this project, we're going to write a program that acts as a bank for the user! This project will help you consolidate the following skills:\n",
    "\n",
    "ETL: Extraction, Transform and Load in a very controlled environment<br>\n",
    "list manipulation<br>\n",
    "user input retrieval and management<br>\n",
    "function creation and execution<br>\n",
    "data type management and conversion<br>\n",
    "sorting algorithms<br>\n",
    "searching algorithms.<br>\n",
    "<br>\n",
    "In the process, you'll be doing some data manipulation, taking user inputs, and writing a sorting algorithm yourself. It should also be a fun challenge that can be built up slowly."
   ]
  },
  {
   "cell_type": "code",
   "execution_count": 11,
   "id": "6d743557",
   "metadata": {},
   "outputs": [
    {
     "name": "stdout",
     "output_type": "stream",
     "text": [
      "Do you still want to run the program? Y/Ny\n",
      "Do you want to credit your account in this transaction? Y/Ny\n",
      "How much do you want to credit your account? 200\n",
      "Added  200.0 to your account.\n",
      "Your new balance is:  200.0\n",
      "Do you want to debit your account in this transaction? Y/Ny\n",
      "How much do you want to debit your account? 100\n",
      "Subtracted  100.0 from your account.\n",
      "Your new balance is:  100.0\n",
      "Thank you for the transaction. Have a nice day.\n",
      "Your new account looks like this: \n",
      "['Date', 'Credit', 'Debit', 'Balance']\n",
      "['11/7/2022', 200.0, 0, 200.0]\n",
      "['11/7/2022', 0, 100.0, 100.0]\n",
      "Do you still want to run the program? Y/Ny\n",
      "Do you want to credit your account in this transaction? Y/Nn\n",
      "Do you want to debit your account in this transaction? Y/Nn\n",
      "Thank you for the transaction. Have a nice day.\n",
      "Your new account looks like this: \n",
      "['Date', 'Credit', 'Debit', 'Balance']\n",
      "['11/7/2022', 200.0, 0, 200.0]\n",
      "['11/7/2022', 0, 100.0, 100.0]\n",
      "Do you still want to run the program? Y/Nn\n"
     ]
    }
   ],
   "source": [
    "import datetime\n",
    "account = [['Date', 'Credit', 'Debit', 'Balance']]\n",
    " \n",
    "def transaction():\n",
    "    now = datetime.datetime.now()\n",
    "    dayMonthYear = str(now.day)+'/'+str(now.month)+'/'+str(now.year)\n",
    "    \n",
    "    validInput = False\n",
    "    while validInput == False:\n",
    "        creditQ = input('Do you want to credit your account in this transaction? Y/N').lower()\n",
    "        if creditQ == 'y':\n",
    "            validInput = True # Why not '==' ?\n",
    "            credit = float(input('How much do you want to credit your account? '))\n",
    "            if len(account) > 1:\n",
    "                lastRow = account[len(account) - 1]\n",
    "                newRow = [dayMonthYear, credit, 0, credit + lastRow[3]]\n",
    "                account.append(newRow)\n",
    "                print('Added ', credit, 'to your account.')\n",
    "                print('Your new balance is: ', account[len(account)-1][3])\n",
    "            else: \n",
    "                newRow = [dayMonthYear, credit, 0, credit]\n",
    "                account.append(newRow)\n",
    "                print('Added ', credit, 'to your account.')\n",
    "                print('Your new balance is: ', account[len(account)-1][3])\n",
    "        elif creditQ == 'n':\n",
    "            validInput = True\n",
    "        else:\n",
    "            print('Please enter a valid input.')\n",
    " \n",
    "    validInput = False\n",
    "    while validInput == False:\n",
    "        debitQ = input('Do you want to debit your account in this transaction? Y/N').lower()\n",
    "        if debitQ == 'y':\n",
    "            validInput = True\n",
    "            debit = float(input('How much do you want to debit your account? '))\n",
    "            if len(account) > 1:\n",
    "                lastRow = account[len(account) - 1]\n",
    "                newRow = [dayMonthYear, 0, debit, lastRow[3] - debit]\n",
    "                account.append(newRow)\n",
    "                print('Subtracted ', debit, 'from your account.')\n",
    "                print('Your new balance is: ', account[len(account)-1][3])\n",
    "            else: \n",
    "                newRow = [dayMonthYear, 0, debit, -debit]\n",
    "                account.append(newRow)\n",
    "                print('Subtracted ', debit, 'from your account.')\n",
    "                print('Your new balance is: ', account[len(account)-1][3])\n",
    "        elif (debitQ == 'n'):\n",
    "            validInput = True\n",
    "        else: \n",
    "            print('Please enter a valid input.')\n",
    "    print('Thank you for the transaction. Have a nice day.')\n",
    "    \n",
    "userQuestion = input('Do you still want to run the program? Y/N').lower()\n",
    "while (userQuestion == 'y'):\n",
    "    transaction()\n",
    "    print('Your new account looks like this: ')\n",
    "    for i in account: \n",
    "        print (i)\n",
    "    userQuestion = input('Do you still want to run the program? Y/N').lower()"
   ]
  },
  {
   "cell_type": "markdown",
   "id": "b130e7e8",
   "metadata": {},
   "source": [
    "Practice using your function. Populate your table with this data, plugging in today's date for the DATE placeholder in the first element of every list. If you go wrong, pop() or remove items off your list."
   ]
  },
  {
   "cell_type": "code",
   "execution_count": 17,
   "id": "d7dacd2d",
   "metadata": {},
   "outputs": [
    {
     "name": "stdout",
     "output_type": "stream",
     "text": [
      "[['Date', 'Credit', 'Debit', 'Balance'], ['7/11/2022', 450.0, 0, 450.0], ['7/11/2022', 0, 30.0, 420.0], ['7/11/2022', 1000.0, 0, 1420.0], ['7/11/2022', 4400.0, 0, 5820.0], ['7/11/2022', 0, 776.0, 5044.0], ['7/11/2022', 2333.33, 0, 7377.33], ['7/11/2022', 2000.0, 0, 9377.33], ['7/11/2022', 0, 1444.33, 7933.0]]\n",
      "7933.0\n"
     ]
    }
   ],
   "source": [
    "account = [\n",
    "    ['Date', 'Credit', 'Debit', 'Balance'], \n",
    "    ['7/11/2022', 450.0, 0, 450.0], \n",
    "    ['7/11/2022', 0, 30.0, 420.0], \n",
    "    ['7/11/2022', 1000.0, 0, 1420.0],\n",
    "    ['7/11/2022', 4400.0, 0, 5820.0],\n",
    "    ['7/11/2022', 0, 776.0, 5044.0],\n",
    "    ['7/11/2022', 2333.33, 0, 7377.33], \n",
    "    ['7/11/2022', 2000.0, 0, 9377.33], \n",
    "    ['7/11/2022', 0, 1444.33, 7933.0]\n",
    "]\n",
    "print(account)\n",
    "print(account[len(account)-1][3])"
   ]
  },
  {
   "cell_type": "markdown",
   "id": "9b5d8426",
   "metadata": {},
   "source": [
    "When you're done, run the following code:\n",
    "for i in account:\n",
    "    print(i)\n"
   ]
  },
  {
   "cell_type": "code",
   "execution_count": 18,
   "id": "fc03dbd3",
   "metadata": {},
   "outputs": [
    {
     "name": "stdout",
     "output_type": "stream",
     "text": [
      "['Date', 'Credit', 'Debit', 'Balance']\n",
      "['7/11/2022', 450.0, 0, 450.0]\n",
      "['7/11/2022', 0, 30.0, 420.0]\n",
      "['7/11/2022', 1000.0, 0, 1420.0]\n",
      "['7/11/2022', 4400.0, 0, 5820.0]\n",
      "['7/11/2022', 0, 776.0, 5044.0]\n",
      "['7/11/2022', 2333.33, 0, 7377.33]\n",
      "['7/11/2022', 2000.0, 0, 9377.33]\n",
      "['7/11/2022', 0, 1444.33, 7933.0]\n"
     ]
    }
   ],
   "source": [
    "for i in account:\n",
    "    print(i)"
   ]
  },
  {
   "cell_type": "markdown",
   "id": "42b2ff00",
   "metadata": {},
   "source": [
    "### Bubble or Insertion sort\n",
    "Write out your favorite implementation of Bubble or Insertion sort, and print out the result of calling it on the following unsorted lists:"
   ]
  },
  {
   "cell_type": "markdown",
   "id": "93a9e0f6",
   "metadata": {},
   "source": [
    "test0 = [3, 22, 14, 434, 501, 11, 9, 1230, 304, 123, 5412, 381923, 302, -3, 1]\n",
    "test1 = [43, 12, 7, 9, 22, 1, 104]\n",
    "test2 = [100, 0, 0, -20, 30, -5]\n",
    "test3 = [28, 4, 17, 666, 1001, 52, 61, 30]"
   ]
  },
  {
   "cell_type": "code",
   "execution_count": 43,
   "id": "f6230294",
   "metadata": {},
   "outputs": [
    {
     "name": "stdout",
     "output_type": "stream",
     "text": [
      "[3, 22, 22, 434, 501, 501, 501, 1230, 1230, 1230, 5412, 381923, 381923, 381923, 381923]\n"
     ]
    }
   ],
   "source": [
    "def bubble_sort(list_of_numbers):\n",
    "    for i in range(len(list_of_numbers)):\n",
    "        for j in range(1, len(list_of_numbers)-i):\n",
    "            if list_of_numbers[j-1] > list_of_numbers[j]:\n",
    "                temp = list_of_numbers[j-1]\n",
    "                list_of_numbers[j] = list_of_numbers[j-1]\n",
    "                list_of_numbers[j-1] = temp\n",
    "                 \n",
    "    return list_of_numbers\n",
    "\n",
    "test0 = [3, 22, 14, 434, 501, 11, 9, 1230, 304, 123, 5412, 381923, 302, -3, 1]\n",
    "print(bubble_sort(test0))"
   ]
  },
  {
   "cell_type": "code",
   "execution_count": 41,
   "id": "059dbfba",
   "metadata": {},
   "outputs": [
    {
     "name": "stdout",
     "output_type": "stream",
     "text": [
      "[-3, 1, 3, 9, 11, 14, 22, 123, 302, 304, 434, 501, 1230, 5412, 381923]\n"
     ]
    }
   ],
   "source": [
    "def insert_sort(list_of_numbers):\n",
    "    \n",
    "    for index in range(len(list_of_numbers)):\n",
    "\n",
    "        current_element = list_of_numbers[index] #Access the current element\n",
    "        position = index\n",
    "\n",
    "        #Check if a position is greater than zero AND the previous item is greater than the current element\n",
    "        while position > 0 and list_of_numbers[position - 1] > current_element:\n",
    "            list_of_numbers[position] = list_of_numbers[position - 1] #Set the value of the positioned element to the value of the previous element. We are doing this to make space for the new (inserted item)\n",
    "            position = position - 1 #Move position to one back\n",
    "\n",
    "        #Set the value of the final positioned item to be the value of the current_element\n",
    "        list_of_numbers[position] = current_element\n",
    "        \n",
    "    return list_of_numbers\n",
    "\n",
    "test0 = [3, 22, 14, 434, 501, 11, 9, 1230, 304, 123, 5412, 381923, 302, -3, 1]\n",
    "print(insert_sort(test0))\n"
   ]
  },
  {
   "cell_type": "markdown",
   "id": "530f6336",
   "metadata": {},
   "source": [
    "### Brute-Force, Iterative Binary or Recursive Binary search\n",
    "Implement your favorite Searching algorithm between Brute-Force search, Iterative Binary Search and Recursive Binary search on the following sorted lists and accompanying search items, in this order:"
   ]
  },
  {
   "cell_type": "code",
   "execution_count": null,
   "id": "56d9aca1",
   "metadata": {},
   "outputs": [],
   "source": [
    "# test0 = [-3, 1, 3, 9, 11, 14, 22, 123, 302, 304, 434, 501, 1230, 5412, 381923]\n",
    "# searchItem0 = 13\n",
    " \n",
    " \n",
    "# test1 = [1, 7, 9, 12, 22, 43, 104]\n",
    "# searchItem1 = 9\n",
    " \n",
    " \n",
    "# test2 = [-20, -5, 0, 0, 30, 100]\n",
    "# searchItem2 = 31\n",
    " \n",
    " \n",
    "# test3 = [4, 17, 28, 30, 52, 61, 666, 1001]\n",
    "# searchItem3 = 666"
   ]
  },
  {
   "cell_type": "code",
   "execution_count": null,
   "id": "1015e94a",
   "metadata": {},
   "outputs": [],
   "source": []
  }
 ],
 "metadata": {
  "kernelspec": {
   "display_name": "Python 3 (ipykernel)",
   "language": "python",
   "name": "python3"
  },
  "language_info": {
   "codemirror_mode": {
    "name": "ipython",
    "version": 3
   },
   "file_extension": ".py",
   "mimetype": "text/x-python",
   "name": "python",
   "nbconvert_exporter": "python",
   "pygments_lexer": "ipython3",
   "version": "3.9.7"
  }
 },
 "nbformat": 4,
 "nbformat_minor": 5
}
