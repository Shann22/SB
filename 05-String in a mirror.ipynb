{
 "cells": [
  {
   "cell_type": "markdown",
   "id": "4844c258",
   "metadata": {},
   "source": [
    "### Stacks Mini-Project"
   ]
  },
  {
   "cell_type": "code",
   "execution_count": 2,
   "id": "f8097bef",
   "metadata": {},
   "outputs": [
    {
     "name": "stdout",
     "output_type": "stream",
     "text": [
      "Awesome job!\n",
      "gnimmargorp\n"
     ]
    }
   ],
   "source": [
    "def push(stack, new_item):\n",
    "    stack.append(new_item)\n",
    "\n",
    "def is_empty(stack):\n",
    "    return stack == []\n",
    "\n",
    "def size(stack):\n",
    "    return len(stack)\n",
    "\n",
    "#Do not change any code above this line.\n",
    "\n",
    "\n",
    "def reverse_string(string):\n",
    "    #We have defined the stack for you\n",
    "    stack = []\n",
    "    \n",
    "    for char in string:\n",
    "        push(stack, char) #push to stack\n",
    "\n",
    "    new_string = \"\"\n",
    "\n",
    "    while not is_empty(stack): #Check if the stack is empty\n",
    "        new_string += \"\" + stack.pop() #pop the last element\n",
    "\n",
    "    return new_string\n",
    "\n",
    "\n",
    "#Tests\n",
    "#Do not change code below this line\n",
    "assert reverse_string(\"programming\") == \"gnimmargorp\"\n",
    "print(\"Awesome job!\")\n",
    "print(reverse_string(\"programming\"))\n"
   ]
  },
  {
   "cell_type": "code",
   "execution_count": null,
   "id": "8a7fbf85",
   "metadata": {},
   "outputs": [],
   "source": []
  }
 ],
 "metadata": {
  "kernelspec": {
   "display_name": "Python 3 (ipykernel)",
   "language": "python",
   "name": "python3"
  },
  "language_info": {
   "codemirror_mode": {
    "name": "ipython",
    "version": 3
   },
   "file_extension": ".py",
   "mimetype": "text/x-python",
   "name": "python",
   "nbconvert_exporter": "python",
   "pygments_lexer": "ipython3",
   "version": "3.9.7"
  }
 },
 "nbformat": 4,
 "nbformat_minor": 5
}
