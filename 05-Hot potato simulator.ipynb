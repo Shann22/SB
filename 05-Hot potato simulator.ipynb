{
 "cells": [
  {
   "cell_type": "markdown",
   "id": "63ae9058",
   "metadata": {},
   "source": [
    "### 5.1.2. Queue Exercise: Hot potato simulator"
   ]
  },
  {
   "cell_type": "markdown",
   "id": "ca052337",
   "metadata": {},
   "source": [
    "Do you remember that old game, Hot Potato? Players sit in a circle and toss and object like a bean bag (or an actual hot potato) to each other while music plays. The player who ends up with the object when the music stops gets eliminated from the game until there's only one person left.\n",
    "\n",
    "Well the goal of this mini-project is to implement a simulation of this game using our queue data structure. Curious? We hoped you would be. Follow the steps below to play your own version of Python hot potato. Good luck!"
   ]
  },
  {
   "cell_type": "code",
   "execution_count": 7,
   "id": "e7259c02",
   "metadata": {},
   "outputs": [
    {
     "name": "stdout",
     "output_type": "stream",
     "text": [
      "Maria\n"
     ]
    }
   ],
   "source": [
    "#Functions that you have implemented in the Queue section\n",
    "\n",
    "def enqueue(queue, new_item):\n",
    "    queue.append(new_item)\n",
    "\n",
    "def dequeue(queue):\n",
    "    #We have added return here, just to return the item that is being removed\n",
    "    return queue.pop(0)\n",
    "    \n",
    "def is_empty(queue):\n",
    "    return len(queue) == 0\n",
    "\n",
    "def size(queue):\n",
    "    return len(queue)\n",
    "\n",
    "# Do not change code above this line\n",
    "\n",
    "def hot_potato_simulator(players, turns):\n",
    "    hot_potato_queue = [] \n",
    "    \n",
    "    for player in players:\n",
    "        enqueue(hot_potato_queue, player) #Using enqueue function add a player to the queue\n",
    "\n",
    "    while size(hot_potato_queue) > 1: #Using size function check how many elements are there in the queue\n",
    "        \n",
    "        for i in range(turns):\n",
    "            \n",
    "            enqueue(hot_potato_queue, dequeue(hot_potato_queue)) #Enqueue the next-to-last element from the queue to the end\n",
    "\n",
    "        dequeue(hot_potato_queue) # Dequeue the HOT POTATO player\n",
    "\n",
    "    return dequeue(hot_potato_queue) #Dequeue last element from the queue (The winner)\n",
    "\n",
    "\n",
    "\n",
    "## Do not change code below this line\n",
    "players = [\"Peter\", \"John\", \"Luka\", \"Maria\", \"Sophia\", \"Derek\"]\n",
    "turns = 10\n",
    "print(hot_potato_simulator(players, turns))\n"
   ]
  },
  {
   "cell_type": "code",
   "execution_count": null,
   "id": "13ffe375",
   "metadata": {},
   "outputs": [],
   "source": []
  }
 ],
 "metadata": {
  "kernelspec": {
   "display_name": "Python 3 (ipykernel)",
   "language": "python",
   "name": "python3"
  },
  "language_info": {
   "codemirror_mode": {
    "name": "ipython",
    "version": 3
   },
   "file_extension": ".py",
   "mimetype": "text/x-python",
   "name": "python",
   "nbconvert_exporter": "python",
   "pygments_lexer": "ipython3",
   "version": "3.9.7"
  }
 },
 "nbformat": 4,
 "nbformat_minor": 5
}
