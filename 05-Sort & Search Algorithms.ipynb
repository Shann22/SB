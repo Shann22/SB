{
 "cells": [
  {
   "cell_type": "markdown",
   "id": "bb828b45",
   "metadata": {},
   "source": [
    "### 5.2.1.1. Brute-force search"
   ]
  },
  {
   "cell_type": "code",
   "execution_count": 1,
   "id": "9cf20487",
   "metadata": {},
   "outputs": [
    {
     "name": "stdout",
     "output_type": "stream",
     "text": [
      "True\n"
     ]
    }
   ],
   "source": [
    "def search(numbers, query_number):\n",
    "    found_number = False\n",
    "    \n",
    "    for number in numbers:\n",
    "        if number == query_number:\n",
    "            found_number = True\n",
    "            break\n",
    "            \n",
    "    return found_number\n",
    "\n",
    "\n",
    "# Don't change code below this line\n",
    "query_number = 3\n",
    "numbers = [40, 512, 31, 3, 50, 610, 2]\n",
    "print(search(numbers, query_number))"
   ]
  },
  {
   "cell_type": "markdown",
   "id": "ab23fd8e",
   "metadata": {},
   "source": [
    "### 5.2.1.2. Binary search"
   ]
  },
  {
   "cell_type": "code",
   "execution_count": 3,
   "id": "34677aff",
   "metadata": {},
   "outputs": [
    {
     "name": "stdout",
     "output_type": "stream",
     "text": [
      "True\n",
      "False\n"
     ]
    }
   ],
   "source": [
    "def binary_search(list_of_numbers, query_item):\n",
    "    #Set index of the first item in the list and an index of the last item in the list\n",
    "    index_first = 0\n",
    "    index_last = len(list_of_numbers)-1\n",
    "    #Set the found variable to False\n",
    "    found = False\n",
    "\n",
    "    while index_first <= index_last and not found: #Check if the index_first is less than or equal to the index_last\n",
    "        \n",
    "        middle_index = (index_first + index_last)//2 #using index_first and index_last find the middle index\n",
    "\n",
    "        if query_item == list_of_numbers[middle_index]: #Check if the middle element is equal to the query_item     \n",
    "            found = True\n",
    "            break\n",
    "        else:\n",
    "            if query_item < list_of_numbers[middle_index]:\n",
    "                index_last = middle_index - 1 #If the query_item is less than the middle item, use the index_last to eliminate the upper part of the list\n",
    "            else:\n",
    "                index_first = middle_index + 1\n",
    "    \n",
    "    #Return the found boolean variable\n",
    "    return found\n",
    "\n",
    "#Do not change code below this line\n",
    "test_list = [4, 13, 22, 28, 34, 117, 943, 1032, 4222]\n",
    "print(binary_search(test_list, 4222))\n",
    "print(binary_search(test_list, 33))\n"
   ]
  },
  {
   "cell_type": "markdown",
   "id": "11eaef47",
   "metadata": {},
   "source": [
    "### 5.2.2.1. Bubble sort"
   ]
  },
  {
   "cell_type": "code",
   "execution_count": 4,
   "id": "98359f66",
   "metadata": {},
   "outputs": [
    {
     "name": "stdout",
     "output_type": "stream",
     "text": [
      "[20, 31, 5, 1, 591, 1351, 693]\n",
      "[1, 5, 20, 31, 591, 693, 1351]\n"
     ]
    }
   ],
   "source": [
    "def bubble_sort(list_of_numbers):\n",
    "    for i in range(len(list_of_numbers)): #run N times, where N is number of elements in a list\n",
    "        # Last i elements are already in place\n",
    "        # It starts at 1 so we can access the previous element\n",
    "        for j in range(1,len(list_of_numbers)-i): # N-i elements\n",
    "            if list_of_numbers[j-1] > list_of_numbers[j]: #check if previous element is bigger than the current element\n",
    "                #Swap code from the instructors notes:\n",
    "                temp = list_of_numbers[j-1]\n",
    "                list_of_numbers[j-1] = list_of_numbers[j]\n",
    "                list_of_numbers[j] = temp\n",
    "\n",
    "    return list_of_numbers\n",
    "\n",
    "#Do not change code below this line\n",
    "unsorted_list = [20, 31, 5, 1, 591, 1351, 693]\n",
    "print(unsorted_list)\n",
    "print(bubble_sort(unsorted_list))"
   ]
  },
  {
   "cell_type": "markdown",
   "id": "0c353c61",
   "metadata": {},
   "source": [
    "### 5.2.2.2. Insertion sort"
   ]
  },
  {
   "cell_type": "code",
   "execution_count": 5,
   "id": "8ae69166",
   "metadata": {},
   "outputs": [
    {
     "name": "stdout",
     "output_type": "stream",
     "text": [
      "[45, 16, 33, 4, 551, 76, 20]\n",
      "[4, 16, 20, 33, 45, 76, 551]\n"
     ]
    }
   ],
   "source": [
    "def insert_sort(list_of_numbers):\n",
    "    \n",
    "    for index in range(len(list_of_numbers)):\n",
    "\n",
    "        current_element = list_of_numbers[index] #Access the current element\n",
    "        position = index\n",
    "\n",
    "        #Check if a position is greater than zero AND the previous item is greater than the current element\n",
    "        while position > 0 and list_of_numbers[position - 1] > current_element:\n",
    "            list_of_numbers[position] = list_of_numbers[position - 1] #Set the value of the positioned element to the value of the previous element. We are doing this to make space for the new (inserted item)\n",
    "            position = position - 1 #Move position to one back\n",
    "\n",
    "        #Set the value of the final positioned item to be the value of the current_element\n",
    "        list_of_numbers[position] = current_element\n",
    "        \n",
    "    return list_of_numbers\n",
    "\n",
    "#Do not change code below this line\n",
    "list_of_numbers = [45,16,33,4,551,76,20]\n",
    "print(list_of_numbers)\n",
    "print(insert_sort(list_of_numbers))"
   ]
  },
  {
   "cell_type": "code",
   "execution_count": null,
   "id": "621ee577",
   "metadata": {},
   "outputs": [],
   "source": []
  }
 ],
 "metadata": {
  "kernelspec": {
   "display_name": "Python 3 (ipykernel)",
   "language": "python",
   "name": "python3"
  },
  "language_info": {
   "codemirror_mode": {
    "name": "ipython",
    "version": 3
   },
   "file_extension": ".py",
   "mimetype": "text/x-python",
   "name": "python",
   "nbconvert_exporter": "python",
   "pygments_lexer": "ipython3",
   "version": "3.9.7"
  }
 },
 "nbformat": 4,
 "nbformat_minor": 5
}
